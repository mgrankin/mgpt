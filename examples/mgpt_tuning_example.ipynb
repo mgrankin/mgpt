{
 "cells": [
  {
   "cell_type": "markdown",
   "id": "0a72a082",
   "metadata": {},
   "source": [
    "## Yakut simple example of model training"
   ]
  },
  {
   "cell_type": "code",
   "execution_count": 1,
   "id": "428756cc",
   "metadata": {},
   "outputs": [],
   "source": [
    "import torch\n",
    "import numpy as np\n",
    "from tqdm import tqdm\n",
    "from torch.utils.data import Dataset, DataLoader\n",
    "from transformers import GPT2LMHeadModel, GPT2Tokenizer\n",
    "from transformers import get_linear_schedule_with_warmup\n"
   ]
  },
  {
   "cell_type": "code",
   "execution_count": 2,
   "id": "c816d431",
   "metadata": {},
   "outputs": [],
   "source": [
    "class TextDataset(Dataset):\n",
    "    def __init__(self, path, tokenizer, seq_length=512):\n",
    "        with open(path) as f:\n",
    "            data = f.read()\n",
    "        tokens = tokenizer.encode(data)\n",
    "        examples = []\n",
    "        for i in range(0, len(tokens) - seq_length + 1, seq_length):\n",
    "            examples.append(tokens[i:i + seq_length])\n",
    "        self.samples = torch.LongTensor(examples)\n",
    "        print('Loaded samples:', len(self.samples))\n",
    "    \n",
    "    def __len__(self):\n",
    "        return len(self.samples)\n",
    "\n",
    "    def __getitem__(self, item):\n",
    "        return self.samples[item]"
   ]
  },
  {
   "cell_type": "code",
   "execution_count": 3,
   "id": "90b41633",
   "metadata": {},
   "outputs": [
    {
     "name": "stderr",
     "output_type": "stream",
     "text": [
      "/usr/local/lib/python3.10/dist-packages/huggingface_hub/file_download.py:1142: FutureWarning: `resume_download` is deprecated and will be removed in version 1.0.0. Downloads always resume when possible. If you want to force a new download, use `force_download=True`.\n",
      "  warnings.warn(\n"
     ]
    }
   ],
   "source": [
    "tokenizer = GPT2Tokenizer.from_pretrained(\"sberbank-ai/mGPT\")"
   ]
  },
  {
   "cell_type": "code",
   "execution_count": 4,
   "id": "8e9c4d81",
   "metadata": {},
   "outputs": [
    {
     "name": "stderr",
     "output_type": "stream",
     "text": [
      "Token indices sequence length is longer than the specified maximum sequence length for this model (6989546 > 2048). Running this sequence through the model will result in indexing errors\n"
     ]
    },
    {
     "name": "stdout",
     "output_type": "stream",
     "text": [
      "Loaded samples: 13651\n"
     ]
    }
   ],
   "source": [
    "dataset = TextDataset('./pelevin.txt', tokenizer)\n",
    "dataloader = DataLoader(dataset, batch_size=1, shuffle=True, drop_last=True)"
   ]
  },
  {
   "cell_type": "code",
   "execution_count": 5,
   "id": "8482644a",
   "metadata": {},
   "outputs": [
    {
     "name": "stderr",
     "output_type": "stream",
     "text": [
      "/usr/local/lib/python3.10/dist-packages/transformers/modeling_utils.py:371: FutureWarning: You are using `torch.load` with `weights_only=False` (the current default value), which uses the default pickle module implicitly. It is possible to construct malicious pickle data which will execute arbitrary code during unpickling (See https://github.com/pytorch/pytorch/blob/main/SECURITY.md#untrusted-models for more details). In a future release, the default value for `weights_only` will be flipped to `True`. This limits the functions that could be executed during unpickling. Arbitrary objects will no longer be allowed to be loaded via this mode unless they are explicitly allowlisted by the user via `torch.serialization.add_safe_globals`. We recommend you start setting `weights_only=True` for any use case where you don't have full control of the loaded file. Please open an issue on GitHub for any issues related to this experimental feature.\n",
      "  return torch.load(checkpoint_file, map_location=\"cpu\")\n"
     ]
    }
   ],
   "source": [
    "model = GPT2LMHeadModel.from_pretrained(\"sberbank-ai/mGPT\")"
   ]
  },
  {
   "cell_type": "code",
   "execution_count": 6,
   "id": "65689946",
   "metadata": {},
   "outputs": [],
   "source": [
    "if torch.cuda.is_available():\n",
    "    model.cuda()\n",
    "model.train()\n",
    "optimizer = torch.optim.AdamW(params=model.parameters(), lr=3e-4)"
   ]
  },
  {
   "cell_type": "code",
   "execution_count": 7,
   "id": "7c54db5f",
   "metadata": {},
   "outputs": [
    {
     "name": "stdout",
     "output_type": "stream",
     "text": [
      "Epoch 0\n"
     ]
    },
    {
     "name": "stderr",
     "output_type": "stream",
     "text": [
      "  0%|          | 0/13651 [00:00<?, ?it/s]"
     ]
    },
    {
     "name": "stderr",
     "output_type": "stream",
     "text": [
      "Loss: 2.868, LR: 0.000000: 100%|██████████| 13651/13651 [33:44<00:00,  6.74it/s]"
     ]
    },
    {
     "name": "stdout",
     "output_type": "stream",
     "text": [
      "Epoch 0 finished. Average loss: 2.518\n"
     ]
    },
    {
     "name": "stderr",
     "output_type": "stream",
     "text": [
      "\n"
     ]
    }
   ],
   "source": [
    "# Calculate total number of training steps\n",
    "total_steps = len(dataloader)\n",
    "\n",
    "# Create a learning rate scheduler\n",
    "scheduler = get_linear_schedule_with_warmup(\n",
    "    optimizer,\n",
    "    num_warmup_steps=100,\n",
    "    num_training_steps=total_steps\n",
    ")\n",
    "\n",
    "for epoch in range(1):\n",
    "    print('Epoch', epoch)\n",
    "    progressbar = tqdm(dataloader)\n",
    "    losses = []\n",
    "    for step, batch in enumerate(progressbar):\n",
    "        batch = batch.to(model.device)\n",
    "        outputs = model(batch, labels=batch)\n",
    "        loss = outputs.loss\n",
    "        loss.backward()\n",
    "        optimizer.step()\n",
    "        scheduler.step()  # Update the learning rate\n",
    "        optimizer.zero_grad()\n",
    "        losses.append(loss.detach().item())\n",
    "        progressbar.set_description(f\"Loss: {np.mean(losses[-10:]):.3f}, LR: {scheduler.get_last_lr()[0]:.6f}\")\n",
    "\n",
    "    print(f\"Epoch {epoch} finished. Average loss: {np.mean(losses[-300:]):.3f}\")"
   ]
  },
  {
   "cell_type": "code",
   "execution_count": 8,
   "id": "6a595f0a",
   "metadata": {},
   "outputs": [],
   "source": [
    "#2.338 no decay\n",
    "folder='models/1e5/'\n",
    "\n",
    "#2.119 last 300\n",
    "folder='models/3e5/'\n",
    "\n",
    "# 1.991 last 300\n",
    "folder='models/1e4/'\n",
    "\n",
    "# 2.518 last 300\n",
    "folder='models/3e4/'"
   ]
  },
  {
   "cell_type": "code",
   "execution_count": 9,
   "id": "163b525e",
   "metadata": {},
   "outputs": [],
   "source": [
    "tokenizer.save_pretrained(folder)\n",
    "model.save_pretrained(folder)"
   ]
  },
  {
   "cell_type": "code",
   "execution_count": null,
   "id": "c807da9b",
   "metadata": {},
   "outputs": [],
   "source": []
  }
 ],
 "metadata": {
  "kernelspec": {
   "display_name": "Python 3 (ipykernel)",
   "language": "python",
   "name": "python3"
  },
  "language_info": {
   "codemirror_mode": {
    "name": "ipython",
    "version": 3
   },
   "file_extension": ".py",
   "mimetype": "text/x-python",
   "name": "python",
   "nbconvert_exporter": "python",
   "pygments_lexer": "ipython3",
   "version": "3.10.12"
  }
 },
 "nbformat": 4,
 "nbformat_minor": 5
}
